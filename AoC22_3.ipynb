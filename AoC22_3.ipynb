{
 "cells": [
  {
   "cell_type": "code",
   "execution_count": null,
   "id": "b655327c-4622-4f93-80c5-f7754676c45d",
   "metadata": {},
   "outputs": [],
   "source": [
    "import pandas as pd\n",
    "file = r'D:\\Python\\Inputs\\Input_3.txt'"
   ]
  },
  {
   "cell_type": "code",
   "execution_count": null,
   "id": "a8db6cba-2006-457c-a680-56f3b5f767cf",
   "metadata": {},
   "outputs": [],
   "source": [
    "data = pd.read_csv(file, header=None).values[:,0]                                          "
   ]
  },
  {
   "cell_type": "code",
   "execution_count": 7,
   "id": "183ef2e7-8e19-434a-b036-e23de1a627fc",
   "metadata": {},
   "outputs": [
    {
     "data": {
      "text/plain": [
       "7848"
      ]
     },
     "execution_count": 7,
     "metadata": {},
     "output_type": "execute_result"
    }
   ],
   "source": [
    "def get_value(s):\n",
    "    s_1 = s[0:int(len(s)/2)]\n",
    "    s_2 = s[int(len(s)/2):]\n",
    "\n",
    "    common_value = set(s_1).intersection(s_2)\n",
    "\n",
    "    for c in common_value:\n",
    "        if c.isupper():\n",
    "            return ord(c) - 38\n",
    "        else:\n",
    "            return ord(c) - 96\n",
    "        \n",
    "total = 0\n",
    "for s in data:\n",
    "    total += get_value(s)\n",
    "total "
   ]
  },
  {
   "cell_type": "code",
   "execution_count": 6,
   "id": "10cfe7b0-c93a-4358-a560-672c1780bd79",
   "metadata": {},
   "outputs": [
    {
     "data": {
      "text/plain": [
       "2616"
      ]
     },
     "execution_count": 6,
     "metadata": {},
     "output_type": "execute_result"
    }
   ],
   "source": [
    "def get_value_2(idx):\n",
    "    common_value = set(data[idx]).intersection(data[idx+1]).intersection(data[idx+2])\n",
    "\n",
    "    for c in common_value:\n",
    "        if c.isupper():\n",
    "            return ord(c) - 38\n",
    "        else:\n",
    "            return ord(c) - 96\n",
    "        \n",
    "total = 0\n",
    "for s in range(int(len(data)/3)):\n",
    "    total += get_value_2(s*3)\n",
    "total "
   ]
  },
  {
   "cell_type": "code",
   "execution_count": null,
   "id": "9aface5a-a32a-4146-90a7-be93dbab1f10",
   "metadata": {},
   "outputs": [],
   "source": []
  }
 ],
 "metadata": {
  "kernelspec": {
   "display_name": "m_env",
   "language": "python",
   "name": "m_env"
  },
  "language_info": {
   "codemirror_mode": {
    "name": "ipython",
    "version": 3
   },
   "file_extension": ".py",
   "mimetype": "text/x-python",
   "name": "python",
   "nbconvert_exporter": "python",
   "pygments_lexer": "ipython3",
   "version": "3.9.7"
  }
 },
 "nbformat": 4,
 "nbformat_minor": 5
}
