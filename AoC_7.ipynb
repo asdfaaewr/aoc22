{
 "cells": [
  {
   "cell_type": "code",
   "execution_count": 1,
   "id": "668c6e62-aa13-4ebf-87b3-4fec2f248f28",
   "metadata": {},
   "outputs": [],
   "source": [
    "file = r'C:\\Users\\asdf\\AoC22\\Inputs\\Input_7.txt'\n",
    "import uuid"
   ]
  },
  {
   "cell_type": "code",
   "execution_count": 2,
   "id": "52205020-9953-4ed3-a15f-dc6f182b9f59",
   "metadata": {},
   "outputs": [],
   "source": [
    "with open(file) as f:\n",
    "    data = f.read().splitlines()"
   ]
  },
  {
   "cell_type": "code",
   "execution_count": 3,
   "id": "b3da2e07-b4c4-4964-8872-384c13a90fb6",
   "metadata": {
    "tags": []
   },
   "outputs": [],
   "source": [
    "folder_dict = {}\n",
    "key=''\n",
    "\n",
    "for line in data: \n",
    "    s = line.split(' ')\n",
    "    if (len(s)==3):\n",
    "        if s[2] !='..':\n",
    "            key = key + '_' + s[2]\n",
    "            folder_dict.update({key : []})\n",
    "        else:\n",
    "            key = key[:-(len(key.split('_')[-1])+1)]\n",
    "    elif s[0] == 'dir':\n",
    "        folder_dict[key].append(key + '_' + s[1])\n",
    "    elif s[0] != '$':\n",
    "        folder_dict[key].append(int(s[0]))  "
   ]
  },
  {
   "cell_type": "code",
   "execution_count": 4,
   "id": "16a8d289-dce4-40ab-9ed3-21c3e60923fc",
   "metadata": {},
   "outputs": [],
   "source": [
    "folder_list = []\n",
    "def get_total(name):\n",
    "    total = 0\n",
    "    \n",
    "    for item in folder_dict[name]:\n",
    "        if isinstance(item, int):\n",
    "            total += item \n",
    "        else:\n",
    "            total += get_total(item)\n",
    "\n",
    "    folder_list.append([name, total])\n",
    "    return total    "
   ]
  },
  {
   "cell_type": "code",
   "execution_count": 5,
   "id": "de028a54-a331-4294-aaa6-ea95da570630",
   "metadata": {},
   "outputs": [
    {
     "data": {
      "text/plain": [
       "1297683"
      ]
     },
     "execution_count": 5,
     "metadata": {},
     "output_type": "execute_result"
    }
   ],
   "source": [
    "tot = get_total('_/')\n",
    "sum([folder[1] for folder in folder_list if folder[1]<100000])"
   ]
  },
  {
   "cell_type": "code",
   "execution_count": 6,
   "id": "b700bacb-aabb-41c5-8546-b8bd122ab502",
   "metadata": {
    "tags": []
   },
   "outputs": [
    {
     "data": {
      "text/plain": [
       "5756764"
      ]
     },
     "execution_count": 6,
     "metadata": {},
     "output_type": "execute_result"
    }
   ],
   "source": [
    "min([folder[1] for folder in folder_list if folder[1]> tot- 40000000])"
   ]
  },
  {
   "cell_type": "code",
   "execution_count": null,
   "id": "5d7d62b3-3736-44fe-bed1-690bf9f5aa83",
   "metadata": {},
   "outputs": [],
   "source": []
  }
 ],
 "metadata": {
  "kernelspec": {
   "display_name": "m_env",
   "language": "python",
   "name": "m_env"
  },
  "language_info": {
   "codemirror_mode": {
    "name": "ipython",
    "version": 3
   },
   "file_extension": ".py",
   "mimetype": "text/x-python",
   "name": "python",
   "nbconvert_exporter": "python",
   "pygments_lexer": "ipython3",
   "version": "3.9.7"
  }
 },
 "nbformat": 4,
 "nbformat_minor": 5
}
