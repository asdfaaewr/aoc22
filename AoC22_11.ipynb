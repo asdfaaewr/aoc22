{
 "cells": [
  {
   "cell_type": "code",
   "execution_count": 1,
   "id": "0cd3110d-03f8-464a-95f2-135b81d76832",
   "metadata": {},
   "outputs": [],
   "source": [
    "import operator\n",
    "ops = { \"+\": operator.add, \"*\": operator.mul}"
   ]
  },
  {
   "cell_type": "code",
   "execution_count": 12,
   "id": "e771ddbd-e82e-4eb1-b4ca-651cf732ac20",
   "metadata": {},
   "outputs": [],
   "source": [
    "class MonkeyGame():\n",
    "    def __init__(self, worry_reduction):\n",
    "        self.monkey_list = []\n",
    "        self.worry_reduction = worry_reduction\n",
    "        self.factor = worry_reduction\n",
    "        \n",
    "    def add_monkey(self, *args, worry_reduction):\n",
    "        self.monkey_list.append(Monkey(*args, worry_reduction = self.worry_reduction))\n",
    "        self.factor *= self.monkey_list[-1].div_test\n",
    "        \n",
    "    def play(self, rounds):\n",
    "        for _ in range(rounds):\n",
    "            for monkey in self.monkey_list:\n",
    "                for item in monkey.items:\n",
    "                    monkey.inspect_count += 1\n",
    "                    throw_true, new_item = monkey.prepare_throw(item)\n",
    "                    if throw_true:\n",
    "                        self.monkey_list[monkey.throw_true].items.append(new_item % self.factor)\n",
    "                    else:\n",
    "                        self.monkey_list[monkey.throw_false].items.append(new_item % self.factor)\n",
    "\n",
    "                monkey.items = []\n",
    "\n",
    "class Monkey():\n",
    "    def __init__(self, items, op, num, div_test, throw_true, throw_false, worry_reduction=None):\n",
    "        self.items = items\n",
    "        self.operation = self.create_operation(op, num)\n",
    "        self.div_test = div_test\n",
    "        self.test_fun = lambda x: x % div_test == 0\n",
    "        self.throw_true = throw_true\n",
    "        self.throw_false = throw_false\n",
    "        self.inspect_count = 0\n",
    "\n",
    "    def prepare_throw(self, item):\n",
    "        worry_level = self.operation(item) #// 3\n",
    "        throw_true = self.test_fun(worry_level)\n",
    "        return [throw_true, worry_level]\n",
    "        \n",
    "    \n",
    "    @staticmethod\n",
    "    def create_operation(op, num):      \n",
    "        if num == 'old':\n",
    "            def f(old):\n",
    "                return ops[op](old, old)\n",
    "        else:\n",
    "            def f(old):\n",
    "                return ops[op](old, int(num))\n",
    "        return f\n"
   ]
  },
  {
   "cell_type": "code",
   "execution_count": 16,
   "id": "2ae2dc35-9f34-47d0-98c9-bc4099bac89e",
   "metadata": {},
   "outputs": [],
   "source": [
    "file = r'C:\\Users\\asdf\\AoC22\\Inputs\\Input_11.txt'\n",
    "worry_reduction = 3 # change to 1 for part 2\n",
    "monkey_game = MonkeyGame(worry_reduction)\n",
    "arg_list = []\n",
    "\n",
    "with open(file) as f:\n",
    "    data = f.readlines()\n",
    "\n",
    "arg_list = []\n",
    "for line in data:\n",
    "    l = line.split()\n",
    "    if l != [] and l[0] == 'Starting':\n",
    "        arg_list.append([int(i.replace(',','')) for i in l[2:]])    \n",
    "    elif l != [] and l[0] == 'Operation:':\n",
    "        arg_list.append(l[4])\n",
    "        arg_list.append(l[5])\n",
    "    elif l != [] and l[0] == 'Test:':\n",
    "        arg_list.append(int(l[3]))\n",
    "    elif l != [] and l[1] == 'true:':\n",
    "        arg_list.append(int(l[5]))\n",
    "    elif l != [] and l[1] == 'false:':\n",
    "        arg_list.append(int(l[5]))\n",
    "        monkey_game.add_monkey(*arg_list, worry_reduction=worry_reduction)\n",
    "        arg_list = []    "
   ]
  },
  {
   "cell_type": "code",
   "execution_count": 17,
   "id": "26d9bbbf-d373-46b0-a1f2-db2b34dc956c",
   "metadata": {
    "tags": []
   },
   "outputs": [],
   "source": [
    "monkey_game.play(20) # change to 10000 for part 2\n",
    "counts = [monkey.inspect_count for monkey in monkey_game.monkey_list]\n",
    "counts.sort()\n",
    "counts[-1] * counts[-2]"
   ]
  },
  {
   "cell_type": "code",
   "execution_count": 18,
   "id": "4c484b2d-c77f-41d5-93d1-b0ab8d4a858a",
   "metadata": {},
   "outputs": [
    {
     "data": {
      "text/plain": [
       "120032"
      ]
     },
     "execution_count": 18,
     "metadata": {},
     "output_type": "execute_result"
    }
   ],
   "source": [
    "counts = [monkey.inspect_count for monkey in monkey_game.monkey_list]\n",
    "counts.sort()\n",
    "counts[-1] * counts[-2]"
   ]
  }
 ],
 "metadata": {
  "kernelspec": {
   "display_name": "m_env",
   "language": "python",
   "name": "m_env"
  },
  "language_info": {
   "codemirror_mode": {
    "name": "ipython",
    "version": 3
   },
   "file_extension": ".py",
   "mimetype": "text/x-python",
   "name": "python",
   "nbconvert_exporter": "python",
   "pygments_lexer": "ipython3",
   "version": "3.9.7"
  }
 },
 "nbformat": 4,
 "nbformat_minor": 5
}
