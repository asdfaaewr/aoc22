{
 "cells": [
  {
   "cell_type": "code",
   "execution_count": 120,
   "id": "b4195b86-fdf0-491b-8d8e-36e84ec00cea",
   "metadata": {},
   "outputs": [],
   "source": [
    "import numpy as np \n",
    "np.set_printoptions(linewidth=200)"
   ]
  },
  {
   "cell_type": "code",
   "execution_count": 113,
   "id": "a120dd2b-9b8a-453b-ab82-78eb25343a59",
   "metadata": {},
   "outputs": [],
   "source": [
    "file = r'C:\\Users\\asdf\\AoC22\\Inputs\\Input_10.txt'"
   ]
  },
  {
   "cell_type": "code",
   "execution_count": 114,
   "id": "64f127d7-2e4d-451a-873d-428fdb673351",
   "metadata": {},
   "outputs": [],
   "source": [
    "with open(file) as f:\n",
    "    data = f.readlines()"
   ]
  },
  {
   "cell_type": "code",
   "execution_count": 115,
   "id": "4a38ea59-f2da-4c29-bbf7-08417f2cec97",
   "metadata": {},
   "outputs": [],
   "source": [
    "signal = [1]\n",
    "\n",
    "for line in data:\n",
    "    l = line.split()\n",
    "    if l[0] == 'noop':\n",
    "        signal.append(signal[-1])\n",
    "    else:\n",
    "        signal.append(signal[-1])\n",
    "        signal.append(int(l[1]) + signal[-1])"
   ]
  },
  {
   "cell_type": "code",
   "execution_count": 116,
   "id": "f00fe8a0-bb60-4663-82b1-5e2e39e4b48b",
   "metadata": {
    "tags": []
   },
   "outputs": [
    {
     "data": {
      "text/plain": [
       "12880"
      ]
     },
     "execution_count": 116,
     "metadata": {},
     "output_type": "execute_result"
    }
   ],
   "source": [
    "sum(([idx * signal[idx-1] for idx in [20, 60, 100, 140, 180, 220]]))"
   ]
  },
  {
   "cell_type": "code",
   "execution_count": 134,
   "id": "c7636174-6904-459c-8c42-0955322ba2db",
   "metadata": {},
   "outputs": [
    {
     "data": {
      "text/plain": [
       "array([[1, 1, 1, 1, 0, 0, 1, 1, 0, 0, 0, 0, 1, 1, 0, 0, 1, 1, 0, 0, 1, 1, 1, 0, 0, 0, 0, 1, 1, 0, 1, 1, 1, 0, 0, 1, 1, 1, 1, 0],\n",
       "       [1, 0, 0, 0, 0, 1, 0, 0, 1, 0, 0, 0, 0, 1, 0, 1, 0, 0, 1, 0, 1, 0, 0, 1, 0, 0, 0, 0, 1, 0, 1, 0, 0, 1, 0, 1, 0, 0, 0, 0],\n",
       "       [1, 1, 1, 0, 0, 1, 0, 0, 0, 0, 0, 0, 0, 1, 0, 1, 0, 0, 1, 0, 1, 0, 0, 1, 0, 0, 0, 0, 1, 0, 1, 0, 0, 1, 0, 1, 1, 1, 0, 0],\n",
       "       [1, 0, 0, 0, 0, 1, 0, 0, 0, 0, 0, 0, 0, 1, 0, 1, 1, 1, 1, 0, 1, 1, 1, 0, 0, 0, 0, 0, 1, 0, 1, 1, 1, 0, 0, 1, 0, 0, 0, 0],\n",
       "       [1, 0, 0, 0, 0, 1, 0, 0, 1, 0, 1, 0, 0, 1, 0, 1, 0, 0, 1, 0, 1, 0, 0, 0, 0, 1, 0, 0, 1, 0, 1, 0, 1, 0, 0, 1, 0, 0, 0, 0],\n",
       "       [1, 0, 0, 0, 0, 0, 1, 1, 0, 0, 0, 1, 1, 0, 0, 1, 0, 0, 1, 0, 1, 0, 0, 0, 0, 0, 1, 1, 0, 0, 1, 0, 0, 1, 0, 1, 1, 1, 1, 0]])"
      ]
     },
     "execution_count": 134,
     "metadata": {},
     "output_type": "execute_result"
    }
   ],
   "source": [
    "a = np.reshape(np.array([1 * (-1 <= signal[idx] - idx % 40 <= 1) for idx in range(len(signal)-1)]), (6, 40))\n",
    "a"
   ]
  },
  {
   "cell_type": "code",
   "execution_count": 136,
   "id": "fcb1f3c7-61e9-4e61-974b-ce78c0b93f89",
   "metadata": {},
   "outputs": [
    {
     "name": "stdout",
     "output_type": "stream",
     "text": [
      "  # # # # . . # # . . . . # # . . # # . . # # # . . . . # # . # # # . . # # # # .\n",
      "  # . . . . # . . # . . . . # . # . . # . # . . # . . . . # . # . . # . # . . . .\n",
      "  # # # . . # . . . . . . . # . # . . # . # . . # . . . . # . # . . # . # # # . .\n",
      "  # . . . . # . . . . . . . # . # # # # . # # # . . . . . # . # # # . . # . . . .\n",
      "  # . . . . # . . # . # . . # . # . . # . # . . . . # . . # . # . # . . # . . . .\n",
      "  # . . . . . # # . . . # # . . # . . # . # . . . . . # # . . # . . # . # # # # .\n"
     ]
    }
   ],
   "source": [
    "print(np.array2string(a).replace('[', ' ').replace(']', '').replace('1', '#').replace('0', '.'))"
   ]
  },
  {
   "cell_type": "markdown",
   "id": "67fed0a1-73eb-4d4a-896e-8d0ba0416ea3",
   "metadata": {},
   "source": [
    "#### Better solution for 2:"
   ]
  },
  {
   "cell_type": "code",
   "execution_count": 157,
   "id": "bcfb8fec-73d4-4908-9969-1bf5c7769d6e",
   "metadata": {},
   "outputs": [
    {
     "name": "stdout",
     "output_type": "stream",
     "text": [
      "\n",
      "# # # # . . # # . . . . # # . . # # . . # # # . . . . # # . # # # . . # # # # . \n",
      "# . . . . # . . # . . . . # . # . . # . # . . # . . . . # . # . . # . # . . . . \n",
      "# # # . . # . . . . . . . # . # . . # . # . . # . . . . # . # . . # . # # # . . \n",
      "# . . . . # . . . . . . . # . # # # # . # # # . . . . . # . # # # . . # . . . . \n",
      "# . . . . # . . # . # . . # . # . . # . # . . . . # . . # . # . # . . # . . . . \n",
      "# . . . . . # # . . . # # . . # . . # . # . . . . . # # . . # . . # . # # # # . \n"
     ]
    }
   ],
   "source": [
    "s = ''\n",
    "for idx in range(len(signal)-1):\n",
    "    if idx % 40 == 0:\n",
    "        s += '\\n'\n",
    "    s += '# ' if (-1 <= signal[idx] - idx % 40 <= 1) else '. '\n",
    "    \n",
    "print(s)"
   ]
  },
  {
   "cell_type": "code",
   "execution_count": 158,
   "id": "afb068dd-bd1d-4080-a198-8fa3ce5a7e3a",
   "metadata": {},
   "outputs": [
    {
     "ename": "AttributeError",
     "evalue": "'str' object has no attribute 'delete'",
     "output_type": "error",
     "traceback": [
      "\u001b[1;31m---------------------------------------------------------------------------\u001b[0m",
      "\u001b[1;31mAttributeError\u001b[0m                            Traceback (most recent call last)",
      "Input \u001b[1;32mIn [158]\u001b[0m, in \u001b[0;36m<module>\u001b[1;34m\u001b[0m\n\u001b[1;32m----> 1\u001b[0m \u001b[38;5;28mprint\u001b[39m(\u001b[43mnp\u001b[49m\u001b[38;5;241;43m.\u001b[39;49m\u001b[43marray2string\u001b[49m\u001b[43m(\u001b[49m\u001b[43ma\u001b[49m\u001b[43m)\u001b[49m\u001b[38;5;241;43m.\u001b[39;49m\u001b[43mdelete\u001b[49m(\u001b[38;5;124m'\u001b[39m\u001b[38;5;124m[\u001b[39m\u001b[38;5;124m'\u001b[39m, \u001b[38;5;124m'\u001b[39m\u001b[38;5;124m]\u001b[39m\u001b[38;5;124m'\u001b[39m)\u001b[38;5;241m.\u001b[39mreplace(\u001b[38;5;124m'\u001b[39m\u001b[38;5;124m1\u001b[39m\u001b[38;5;124m'\u001b[39m, \u001b[38;5;124m'\u001b[39m\u001b[38;5;124m#\u001b[39m\u001b[38;5;124m'\u001b[39m)\u001b[38;5;241m.\u001b[39mreplace(\u001b[38;5;124m'\u001b[39m\u001b[38;5;124m0\u001b[39m\u001b[38;5;124m'\u001b[39m, \u001b[38;5;124m'\u001b[39m\u001b[38;5;124m.\u001b[39m\u001b[38;5;124m'\u001b[39m))\n",
      "\u001b[1;31mAttributeError\u001b[0m: 'str' object has no attribute 'delete'"
     ]
    }
   ],
   "source": [
    "print(np.array2string(a).delete('[', ']').replace('1', '#').replace('0', '.'))"
   ]
  },
  {
   "cell_type": "code",
   "execution_count": null,
   "id": "7b427483-1581-4ac2-b478-b2bbc0514138",
   "metadata": {},
   "outputs": [],
   "source": []
  }
 ],
 "metadata": {
  "kernelspec": {
   "display_name": "m_env",
   "language": "python",
   "name": "m_env"
  },
  "language_info": {
   "codemirror_mode": {
    "name": "ipython",
    "version": 3
   },
   "file_extension": ".py",
   "mimetype": "text/x-python",
   "name": "python",
   "nbconvert_exporter": "python",
   "pygments_lexer": "ipython3",
   "version": "3.9.7"
  }
 },
 "nbformat": 4,
 "nbformat_minor": 5
}
