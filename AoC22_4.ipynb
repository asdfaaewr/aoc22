{
 "cells": [
  {
   "cell_type": "code",
   "execution_count": 3,
   "id": "98716e9f-cd3a-4ca5-a15d-3ecad75ae055",
   "metadata": {},
   "outputs": [],
   "source": [
    "import pandas as pd\n",
    "file = r'C:\\Users\\asdf\\AoC22\\Inputs\\Input_4.txt'"
   ]
  },
  {
   "cell_type": "code",
   "execution_count": 4,
   "id": "59e9fbae-0be5-4b8a-a98c-873fda9c99ed",
   "metadata": {},
   "outputs": [
    {
     "name": "stderr",
     "output_type": "stream",
     "text": [
      "C:\\Users\\asdf\\AppData\\Local\\Temp\\ipykernel_10828\\3048293176.py:1: ParserWarning: Falling back to the 'python' engine because the 'c' engine does not support regex separators (separators > 1 char and different from '\\s+' are interpreted as regex); you can avoid this warning by specifying engine='python'.\n",
      "  data = pd.read_csv(file, header=None, sep=\",|-\").values\n"
     ]
    }
   ],
   "source": [
    "data = pd.read_csv(file, header=None, sep=\",|-\").values"
   ]
  },
  {
   "cell_type": "code",
   "execution_count": 5,
   "id": "b3c80b80-15b6-4be5-90cd-b9e3f4dc83f5",
   "metadata": {},
   "outputs": [
    {
     "data": {
      "text/plain": [
       "471"
      ]
     },
     "execution_count": 5,
     "metadata": {},
     "output_type": "execute_result"
    }
   ],
   "source": [
    "tot=0\n",
    "for line in data:\n",
    "    if ((line[0] <= line[2]) * (line[1] >= line[3]) | (line[2] <= line[0]) * (line[3] >= line[1])):\n",
    "        tot += 1\n",
    "tot"
   ]
  },
  {
   "cell_type": "code",
   "execution_count": 6,
   "id": "806027b1-a77b-47e0-b6a6-bcdec7deb579",
   "metadata": {},
   "outputs": [
    {
     "data": {
      "text/plain": [
       "888"
      ]
     },
     "execution_count": 6,
     "metadata": {},
     "output_type": "execute_result"
    }
   ],
   "source": [
    "tot=0\n",
    "for line in data:\n",
    "    if ((line[1] < line[2]) | (line[0] > line[3])):\n",
    "        tot += 1\n",
    "        \n",
    "len(data) - tot"
   ]
  },
  {
   "cell_type": "code",
   "execution_count": null,
   "id": "5d62d37b-7277-49c9-8029-972e1ec51c00",
   "metadata": {},
   "outputs": [],
   "source": []
  }
 ],
 "metadata": {
  "kernelspec": {
   "display_name": "m_env",
   "language": "python",
   "name": "m_env"
  },
  "language_info": {
   "codemirror_mode": {
    "name": "ipython",
    "version": 3
   },
   "file_extension": ".py",
   "mimetype": "text/x-python",
   "name": "python",
   "nbconvert_exporter": "python",
   "pygments_lexer": "ipython3",
   "version": "3.9.7"
  }
 },
 "nbformat": 4,
 "nbformat_minor": 5
}
