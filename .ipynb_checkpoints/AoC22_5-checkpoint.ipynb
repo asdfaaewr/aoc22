{
 "cells": [
  {
   "cell_type": "code",
   "execution_count": 1,
   "id": "b3c217a3-5d16-412d-899b-f40ae69cfec5",
   "metadata": {},
   "outputs": [],
   "source": [
    "import pandas as pd "
   ]
  },
  {
   "cell_type": "code",
   "execution_count": 237,
   "id": "ac6b2238-1d64-4728-a57f-31b8acb85002",
   "metadata": {},
   "outputs": [],
   "source": [
    "file = r'C:\\Users\\asdf\\AoC22\\Inputs\\Input_5.txt'\n",
    "v = pd.read_csv(file, sep =\",\", header=None).values"
   ]
  },
  {
   "cell_type": "code",
   "execution_count": 246,
   "id": "6a840648-b58a-4584-bd6e-1295264f8c23",
   "metadata": {},
   "outputs": [],
   "source": [
    "a = ['Z', 'V', 'T', 'B', 'J', 'G', 'R'][::-1]\n",
    "b = ['L', 'V', 'R', 'J'][::-1]\n",
    "c = ['S', 'Q', 'F']\n",
    "d = ['Z', 'H', 'N', 'L', 'F', 'V', 'Q', 'G']\n",
    "e = ['R', 'Q', 'T', 'J', 'C', 'S', 'M', 'W']\n",
    "f = ['S', 'W', 'T', 'C', 'H', 'F']\n",
    "g = ['D', 'Z', 'C', 'V', 'F', 'N', 'J']\n",
    "h = ['L', 'G', 'Z', 'D', 'W', 'R', 'F', 'Q']\n",
    "i = ['J', 'B', 'W', 'V', 'P']\n",
    "\n",
    "table = [a,b,c,d,e,f,g,h,i]\n",
    "table_2 = table.copy()"
   ]
  },
  {
   "cell_type": "code",
   "execution_count": 247,
   "id": "1ed814b0-7874-45c9-b1e4-2b298632e841",
   "metadata": {
    "tags": []
   },
   "outputs": [
    {
     "data": {
      "text/plain": [
       "['Z', 'S', 'Q', 'V', 'C', 'C', 'J', 'L', 'L']"
      ]
     },
     "execution_count": 247,
     "metadata": {},
     "output_type": "execute_result"
    }
   ],
   "source": [
    "for move in v:\n",
    "    for i in range(move[0]):\n",
    "        table[move[2]-1].append(table[move[1]-1][-1])\n",
    "        table[move[1]-1].pop()  \n",
    "        \n",
    "[t[-1] for t in table]"
   ]
  },
  {
   "cell_type": "code",
   "execution_count": 248,
   "id": "7488a5b8-42cb-4b81-900b-a15b53010f17",
   "metadata": {},
   "outputs": [
    {
     "data": {
      "text/plain": [
       "['V', 'F', 'Q', 'N', 'D', 'S', 'G', 'Z', 'L']"
      ]
     },
     "execution_count": 248,
     "metadata": {},
     "output_type": "execute_result"
    }
   ],
   "source": [
    "for move in v:\n",
    "    table_2[move[2]-1] = table_2[move[2]-1] + table_2[move[1]-1][-move[0]:]\n",
    "    table_2[move[1]-1][-move[0]:]=[]\n",
    "    \n",
    "[t[-1] for t in table_2]"
   ]
  }
 ],
 "metadata": {
  "kernelspec": {
   "display_name": "m_env",
   "language": "python",
   "name": "m_env"
  },
  "language_info": {
   "codemirror_mode": {
    "name": "ipython",
    "version": 3
   },
   "file_extension": ".py",
   "mimetype": "text/x-python",
   "name": "python",
   "nbconvert_exporter": "python",
   "pygments_lexer": "ipython3",
   "version": "3.9.7"
  }
 },
 "nbformat": 4,
 "nbformat_minor": 5
}
