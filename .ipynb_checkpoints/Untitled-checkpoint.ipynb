{
 "cells": [
  {
   "cell_type": "code",
   "execution_count": 114,
   "id": "5855f60d-6f85-4407-acc0-8b6294d05c6b",
   "metadata": {},
   "outputs": [],
   "source": [
    "direction_dict = {'U' : (1, 0), 'D' : (-1, 0), 'L' : (0, -1), 'R' : (0, 1)}\n",
    "\n",
    "class Rope:\n",
    "    def __init__(self, start_position=(0,0), num_knots=2):\n",
    "        self.knot_list = [Knot(start_position)]\n",
    "        for _ in range(num_knots-1):\n",
    "            self.knot_list.append(Knot(start_position, followed_by=self.knot_list[-1]))\n",
    "    \n",
    "    def move_knots(self, direction, steps):\n",
    "        for _ in range(int(steps)):\n",
    "            self.knot_list[-1].move(direction) \n",
    "\n",
    "class Knot:\n",
    "    def __init__(self, start_position, followed_by=None):\n",
    "        self.position = start_position\n",
    "        self.history = [start_position]\n",
    "        self.followed_by = followed_by\n",
    "\n",
    "    @property\n",
    "    def unique_positions(self):\n",
    "        return len(set(self.history))\n",
    "\n",
    "    def touching(self, knot_2):\n",
    "        return ((-2 < self.position[0] - knot_2.position[0] < 2) and (-2 < self.position[1] - knot_2.position[1] < 2))\n",
    "\n",
    "    \n",
    "    def leader_diagonal_direction(self, leader):\n",
    "        leader_direction = (leader.position[0] - self.position[0], leader.position[1] - self.position[1])\n",
    "        #print(leader_direction)\n",
    "        if leader_direction in {(2, 2), (-2, 2), (2, -2), (-2, -2)}:\n",
    "            return (True, (leader_direction[0] / 2, leader_direction[1] / 2))\n",
    "        else:\n",
    "            return (False, (0,0))\n",
    "    \n",
    "    def move(self, direction):\n",
    "        move = direction_dict[direction]\n",
    "        self.position = (self.position[0] + move[0], self.position[1] + move[1])\n",
    "        self.history.append(self.position)\n",
    "        if self.followed_by is not None and not self.touching(self.followed_by):\n",
    "            self.followed_by.follow(self)\n",
    "    \n",
    "    def follow(self, leader):\n",
    "        diag = self.leader_diagonal_direction(leader)\n",
    "        if diag[0]:\n",
    "            self.position = (self.position[0] + diag[1][0], self.position[1] + diag[1][1])\n",
    "        else:        \n",
    "            self.position = leader.history[-2]\n",
    "            \n",
    "        self.history.append(self.position)\n",
    "        if self.followed_by is not None and not self.touching(self.followed_by):\n",
    "            self.followed_by.follow(self)\n",
    "            \n",
    "\n"
   ]
  },
  {
   "cell_type": "code",
   "execution_count": 115,
   "id": "1865370f-b6be-45a0-beeb-5829f03b83b6",
   "metadata": {},
   "outputs": [
    {
     "name": "stdout",
     "output_type": "stream",
     "text": [
      "[(0, 0), (0, 0), (0, 0), (0, 0), (0, 0), (0, 0), (0, 0), (0, 0), (0, 0), (0, 0)]\n",
      "(0, 2)\n",
      "(0, 2)\n",
      "(0, 2)\n",
      "(0, 2)\n",
      "(0, 2)\n",
      "(0, 2)\n",
      "[(0, 0), (0, 0), (0, 0), (0, 0), (0, 0), (0, 0), (0, 1), (0, 2), (0, 3), (0, 4)]\n",
      "(2, 1)\n",
      "(1, 2)\n",
      "(0, 2)\n",
      "(0, 2)\n",
      "(2, 0)\n",
      "(2, 1)\n",
      "(1, 2)\n",
      "(0, 2)\n",
      "(0, 2)\n",
      "(2, 0)\n",
      "(2, 0)\n",
      "(2, 1)\n",
      "(1, 2)\n",
      "(0, 2)\n",
      "(0, 2)\n",
      "[(0, 0), (0, 0), (0, 0), (0, 1), (0, 2), (0, 3), (1, 4), (2, 4), (3, 4), (4, 4)]\n",
      "(1, -2)\n",
      "(2, -1)\n",
      "(2, 0)\n",
      "(2, 1)\n",
      "(1, 2)\n",
      "(0, 2)\n",
      "(0, 2)\n",
      "(0, -2)\n",
      "(1, -2)\n",
      "(2, -1)\n",
      "(2, 0)\n",
      "(2, 1)\n",
      "(1, 2)\n",
      "(0, 2)\n",
      "(0, 2)\n",
      "[(0, 0), (0, 1), (0, 2), (0, 3), (1, 4), (2, 4), (3, 4), (4, 3), (4, 2), (4, 1)]\n",
      "[(0, 0), (0, 1), (0, 2), (0, 3), (1, 4), (2, 4), (3, 4), (4, 3), (4, 2), (3, 1)]\n",
      "(-1, 2)\n",
      "(0, 2)\n",
      "[(0, 0), (0, 1), (0, 2), (0, 3), (1, 4), (2, 4), (3, 4), (4, 3), (3, 4), (3, 5)]\n",
      "[(0, 0), (0, 1), (0, 2), (0, 3), (1, 4), (2, 4), (3, 4), (4, 3), (3, 4), (2, 5)]\n",
      "(-1, -2)\n",
      "(-2, 0)\n",
      "(0, -2)\n",
      "(-1, -2)\n",
      "(0, -2)\n",
      "(0, -2)\n",
      "(-1, -2)\n",
      "[(0, 0), (0, 1), (0, 2), (0, 3), (1, 4), (2, 4), (2, 3), (2, 2), (2, 1), (2, 0)]\n",
      "1\n"
     ]
    }
   ],
   "source": [
    "    file = r'C:\\Users\\asdf\\AoC22\\Inputs\\Input_9_test.txt'\n",
    "\n",
    "    with open(file) as f:\n",
    "        data = f.readlines()\n",
    "    \n",
    "    rope = Rope(num_knots=10)\n",
    "    \n",
    "    for line in data:\n",
    "        print([knot.position for knot in rope.knot_list])\n",
    "        rope.move_knots(*line.split())\n",
    "        \n",
    "    print(rope.knot_list[0].unique_positions)"
   ]
  },
  {
   "cell_type": "code",
   "execution_count": 106,
   "id": "fe7d939d-c8c5-47e3-9880-c2659037c3d5",
   "metadata": {},
   "outputs": [
    {
     "data": {
      "text/plain": [
       "<__main__.Knot at 0x2eb4db1f190>"
      ]
     },
     "execution_count": 106,
     "metadata": {},
     "output_type": "execute_result"
    }
   ],
   "source": [
    "rope.knot_list[-1].followed_by"
   ]
  },
  {
   "cell_type": "code",
   "execution_count": 41,
   "id": "efd96f4a-c391-4ff8-a664-3a9c6ab51f80",
   "metadata": {},
   "outputs": [],
   "source": [
    "rope.knot_list[-1].move('U')\n"
   ]
  },
  {
   "cell_type": "code",
   "execution_count": 57,
   "id": "81ac69a2-4337-4437-a3e8-feceac829b11",
   "metadata": {},
   "outputs": [
    {
     "data": {
      "text/plain": [
       "(0, 0)"
      ]
     },
     "execution_count": 57,
     "metadata": {},
     "output_type": "execute_result"
    }
   ],
   "source": [
    "rope.knot_list[-3].position"
   ]
  },
  {
   "cell_type": "code",
   "execution_count": 60,
   "id": "af260c75-8d54-4ad1-956b-e25fedcf7111",
   "metadata": {},
   "outputs": [],
   "source": [
    "rope = Rope(num_knots=10)"
   ]
  },
  {
   "cell_type": "code",
   "execution_count": 44,
   "id": "e1eac481-4471-4811-b37d-5cbd3bd103ae",
   "metadata": {},
   "outputs": [
    {
     "data": {
      "text/plain": [
       "False"
      ]
     },
     "execution_count": 44,
     "metadata": {},
     "output_type": "execute_result"
    }
   ],
   "source": [
    "rope.knot_list[-3].touching(rope.knot_list[-2])"
   ]
  },
  {
   "cell_type": "code",
   "execution_count": 66,
   "id": "820cb1fc-707c-4795-96c8-777b54b624c1",
   "metadata": {},
   "outputs": [
    {
     "name": "stdout",
     "output_type": "stream",
     "text": [
      "[(0, 0), (0, 0), (0, 0), (0, 0), (1, 0), (2, 0), (3, 0), (4, 0), (5, 0), (6, 0)]\n"
     ]
    }
   ],
   "source": [
    "rope.knot_list[-1].move('U')\n",
    "print([knot.position for knot in rope.knot_list])"
   ]
  },
  {
   "cell_type": "code",
   "execution_count": null,
   "id": "2b2699f8-3dd8-4804-ae70-5d86247b5676",
   "metadata": {},
   "outputs": [],
   "source": []
  },
  {
   "cell_type": "code",
   "execution_count": 82,
   "id": "cd385c28-d224-44f5-ada9-5b8a2dc793e2",
   "metadata": {},
   "outputs": [
    {
     "data": {
      "text/plain": [
       "5131"
      ]
     },
     "execution_count": 82,
     "metadata": {},
     "output_type": "execute_result"
    }
   ],
   "source": [
    "rope.knot_list[1].unique_positions"
   ]
  },
  {
   "cell_type": "code",
   "execution_count": 92,
   "id": "9569992e-e039-4eba-b435-5b26c2768a13",
   "metadata": {},
   "outputs": [
    {
     "data": {
      "text/plain": [
       "True"
      ]
     },
     "execution_count": 92,
     "metadata": {},
     "output_type": "execute_result"
    }
   ],
   "source": [
    "leader = (2,2)\n",
    "follower = (0,0)\n",
    "\n",
    "def leader_diagonal_direction(leader, follower):\n",
    "    leader_direction = leader[0] - follower[0], leader[1] - follower[1]\n",
    "    if leader_diagonal_direction == (2,2):\n",
    "        return (True, (1, 1))\n",
    "    elif leader_diagonal_direction == (-2,2):\n",
    "        return (True, (-1, 1))\n",
    "    elif leader_diagonal_direction == (2,-2):\n",
    "        return (True, (1, -1))\n",
    "    elif leader_diagonal_direction == (-2,-2):\n",
    "        return (True, (-1,-1))\n",
    "    else:\n",
    "        return (False, (0,0))"
   ]
  },
  {
   "cell_type": "code",
   "execution_count": 93,
   "id": "7d5c80e2-e548-4eea-8d45-7c14311a9723",
   "metadata": {},
   "outputs": [
    {
     "data": {
      "text/plain": [
       "(2, 2)"
      ]
     },
     "execution_count": 93,
     "metadata": {},
     "output_type": "execute_result"
    }
   ],
   "source": [
    "leader_direction"
   ]
  },
  {
   "cell_type": "code",
   "execution_count": null,
   "id": "9e1a0bcb-fccf-4dc8-8f2a-bd0e8397d742",
   "metadata": {},
   "outputs": [],
   "source": []
  }
 ],
 "metadata": {
  "kernelspec": {
   "display_name": "m_env",
   "language": "python",
   "name": "m_env"
  },
  "language_info": {
   "codemirror_mode": {
    "name": "ipython",
    "version": 3
   },
   "file_extension": ".py",
   "mimetype": "text/x-python",
   "name": "python",
   "nbconvert_exporter": "python",
   "pygments_lexer": "ipython3",
   "version": "3.9.7"
  }
 },
 "nbformat": 4,
 "nbformat_minor": 5
}
