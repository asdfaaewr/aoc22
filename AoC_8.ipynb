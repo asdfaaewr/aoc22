{
 "cells": [
  {
   "cell_type": "code",
   "execution_count": 2,
   "id": "359bf7f1-7de5-42e1-aa45-3ae289153a5f",
   "metadata": {},
   "outputs": [],
   "source": [
    "import pandas as pd; import numpy as np"
   ]
  },
  {
   "cell_type": "code",
   "execution_count": 1,
   "id": "9d736f74-ee04-4f13-96f0-abac49962592",
   "metadata": {},
   "outputs": [],
   "source": [
    "file = r'C:\\Users\\asdf\\AoC22\\Inputs\\Input_8.txt'\n",
    "a = pd.read_fwf(file, widths = [1] * 99, header=None).values"
   ]
  },
  {
   "cell_type": "markdown",
   "id": "0537c373-d9ba-4beb-8c2d-df3d1b501260",
   "metadata": {},
   "source": [
    "##### Part 1"
   ]
  },
  {
   "cell_type": "code",
   "execution_count": 13,
   "id": "ea93d065-4326-4795-9148-0cd8162cc488",
   "metadata": {
    "tags": []
   },
   "outputs": [
    {
     "data": {
      "text/plain": [
       "1829"
      ]
     },
     "execution_count": 13,
     "metadata": {},
     "output_type": "execute_result"
    }
   ],
   "source": [
    "np.prod(a.shape) - (np.multiply.reduce([np.rot90((np.diff(np.maximum.accumulate(np.rot90(a, r), 1), 1) == 0)[1:-1, :-1], -r) for r in range(4)])).sum()"
   ]
  },
  {
   "cell_type": "markdown",
   "id": "1665765e-6f30-487f-b18d-9d9696cf608f",
   "metadata": {},
   "source": [
    "##### Part 2"
   ]
  },
  {
   "cell_type": "code",
   "execution_count": 38,
   "id": "2dbf07ed-e819-46f2-b2b5-6b59f3ffeae4",
   "metadata": {},
   "outputs": [],
   "source": [
    "moves = [[-1, 0], [1, 0], [0, -1], [0, 1]]\n",
    "def get_tot(start_x, start_y):\n",
    "    prod = 1\n",
    "    for m in moves:\n",
    "        tot = 0\n",
    "        i_x, i_y = start_x + m[0], start_y + m[1]\n",
    "        while (len(a)-2 >= i_x >= 1) & (len(a)-2 >= i_y >= 1):\n",
    "            if (a[i_x, i_y] >= a[start_x, start_y]):\n",
    "                break\n",
    "            tot += 1\n",
    "            i_x, i_y = i_x + m[0], i_y + m[1]\n",
    "        prod *= tot + 1\n",
    "    return prod            "
   ]
  },
  {
   "cell_type": "code",
   "execution_count": 248,
   "id": "2c14fad7-f3dc-4233-a46a-e2b00e14b61e",
   "metadata": {
    "tags": []
   },
   "outputs": [
    {
     "data": {
      "text/plain": [
       "291840"
      ]
     },
     "execution_count": 248,
     "metadata": {},
     "output_type": "execute_result"
    }
   ],
   "source": [
    "max_tot = 0\n",
    "for start_x in range(len(a)):\n",
    "    for start_y in range(len(a)):\n",
    "        tot = get_tot(start_x, start_y)\n",
    "        if tot > max_tot:\n",
    "            max_tot = tot\n",
    "max_tot"
   ]
  }
 ],
 "metadata": {
  "kernelspec": {
   "display_name": "m_env",
   "language": "python",
   "name": "m_env"
  },
  "language_info": {
   "codemirror_mode": {
    "name": "ipython",
    "version": 3
   },
   "file_extension": ".py",
   "mimetype": "text/x-python",
   "name": "python",
   "nbconvert_exporter": "python",
   "pygments_lexer": "ipython3",
   "version": "3.9.7"
  }
 },
 "nbformat": 4,
 "nbformat_minor": 5
}
