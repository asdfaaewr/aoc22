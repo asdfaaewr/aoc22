{
 "cells": [
  {
   "cell_type": "code",
   "execution_count": 2,
   "id": "359bf7f1-7de5-42e1-aa45-3ae289153a5f",
   "metadata": {},
   "outputs": [],
   "source": [
    "import pandas as pd; import numpy as np"
   ]
  },
  {
   "cell_type": "code",
   "execution_count": 1,
   "id": "9d736f74-ee04-4f13-96f0-abac49962592",
   "metadata": {},
   "outputs": [],
   "source": [
    "file = r'C:\\Users\\asdf\\AoC22\\Inputs\\Input_8.txt'\n",
    "a = pd.read_fwf(file, widths = [1] * 99, header=None).values"
   ]
  },
  {
   "cell_type": "markdown",
   "id": "0537c373-d9ba-4beb-8c2d-df3d1b501260",
   "metadata": {},
   "source": [
    "##### Part 1"
   ]
  },
  {
   "cell_type": "code",
   "execution_count": 13,
   "id": "ea93d065-4326-4795-9148-0cd8162cc488",
   "metadata": {
    "tags": []
   },
   "outputs": [
    {
     "data": {
      "text/plain": [
       "1829"
      ]
     },
     "execution_count": 13,
     "metadata": {},
     "output_type": "execute_result"
    }
   ],
   "source": [
    "np.prod(a.shape) - (np.multiply.reduce([np.rot90((np.diff(np.maximum.accumulate(np.rot90(a, r), 1), 1) == 0)[1:-1, :-1], -r) for r in range(4)])).sum()"
   ]
  },
  {
   "cell_type": "markdown",
   "id": "1665765e-6f30-487f-b18d-9d9696cf608f",
   "metadata": {},
   "source": [
    "##### Part 2"
   ]
  },
  {
   "cell_type": "code",
   "execution_count": 38,
   "id": "2dbf07ed-e819-46f2-b2b5-6b59f3ffeae4",
   "metadata": {},
   "outputs": [],
   "source": [
    "moves = [[-1, 0], [1, 0], [0, -1], [0, 1]]\n",
    "def get_tot(start_x, start_y):\n",
    "    prod = 1\n",
    "    for m in moves:\n",
    "        tot = 0\n",
    "        i_x, i_y = start_x + m[0], start_y + m[1]\n",
    "        while (len(a)-2 >= i_x >= 1) & (len(a)-2 >= i_y >= 1):\n",
    "            if (a[i_x, i_y] >= a[start_x, start_y]):\n",
    "                break\n",
    "            tot += 1\n",
    "            i_x, i_y = i_x + m[0], i_y + m[1]\n",
    "        prod *= tot + 1\n",
    "    return prod            "
   ]
  },
  {
   "cell_type": "code",
   "execution_count": 248,
   "id": "2c14fad7-f3dc-4233-a46a-e2b00e14b61e",
   "metadata": {
    "tags": []
   },
   "outputs": [
    {
     "data": {
      "text/plain": [
       "291840"
      ]
     },
     "execution_count": 248,
     "metadata": {},
     "output_type": "execute_result"
    }
   ],
   "source": [
    "max_tot = 0\n",
    "for start_x in range(len(a)):\n",
    "    for start_y in range(len(a)):\n",
    "        tot = get_tot(start_x, start_y)\n",
    "        if tot > max_tot:\n",
    "            max_tot = tot\n",
    "max_tot"
   ]
  },
  {
   "cell_type": "code",
   "execution_count": null,
   "id": "2122a7ad-44df-4f9c-9533-9b856ab25a90",
   "metadata": {},
   "outputs": [],
   "source": []
  },
  {
   "cell_type": "code",
   "execution_count": null,
   "id": "17e930e5-519c-45cd-b804-7466eb3c916a",
   "metadata": {},
   "outputs": [],
   "source": []
  },
  {
   "cell_type": "code",
   "execution_count": 247,
   "id": "c489242d-372d-4fda-b26d-e718e6f3e6f5",
   "metadata": {
    "tags": []
   },
   "outputs": [
    {
     "data": {
      "text/plain": [
       "583"
      ]
     },
     "execution_count": 247,
     "metadata": {},
     "output_type": "execute_result"
    }
   ],
   "source": [
    "a_0 = 0 * a\n",
    "tot = 0 \n",
    "\n",
    "# get trees seeable from left and right\n",
    "for row in range(1, len(a)-1):\n",
    "    \n",
    "    curr_max = a[row, 0]\n",
    "    for col in range(1, len(a)-1):\n",
    "        if a[row, col] <= curr_max:\n",
    "            max_position = col - 1\n",
    "            break\n",
    "        else:\n",
    "            curr_max = a[row, col]\n",
    "            if a_0[row, col] == 0:\n",
    "                a_0[row, col]  = 1\n",
    "                tot +=1 \n",
    "\n",
    "    curr_max = a[row, -1]\n",
    "    for col in reversed(range(max_position, len(a)-1)):\n",
    "        if a[row, col] <= curr_max:\n",
    "            break\n",
    "        else:\n",
    "            curr_max = a[row, col]\n",
    "            if a_0[row, col] == 0:\n",
    "                a_0[row, col] = 1\n",
    "                tot +=1 \n",
    "                \n",
    "# get trees seeable from top and bottom\n",
    "\n",
    "for col in range(1, len(a)-1):\n",
    "    \n",
    "    curr_max = a[0, col]\n",
    "    for row in range(1, len(a)-1):\n",
    "        if a[row, col] <= curr_max:\n",
    "            max_position = row - 1\n",
    "            break\n",
    "        else:\n",
    "            curr_max = a[row, col]\n",
    "            if a_0[row, col] == 0:\n",
    "                a_0[row, col]  = 1\n",
    "                tot +=1 \n",
    "\n",
    "    curr_max = a[-1, col]\n",
    "    for row in reversed(range(max_position, len(a)-1)):\n",
    "        if a[row, col] <= curr_max:\n",
    "            break\n",
    "        else:\n",
    "            curr_max = a[row, col]\n",
    "            if a_0[row, col] == 0:\n",
    "                a_0[row, col] = 1\n",
    "                tot +=1 \n",
    "                \n",
    "tot + 4 * len(a) - 4"
   ]
  },
  {
   "cell_type": "code",
   "execution_count": 243,
   "id": "a8c84c0c-89f7-4b2b-9f35-12155c3af6b5",
   "metadata": {},
   "outputs": [
    {
     "data": {
      "text/plain": [
       "394"
      ]
     },
     "execution_count": 243,
     "metadata": {},
     "output_type": "execute_result"
    }
   ],
   "source": []
  },
  {
   "cell_type": "code",
   "execution_count": 246,
   "id": "86b0fe73-9674-457d-9aba-8827a27663e4",
   "metadata": {},
   "outputs": [
    {
     "data": {
      "text/plain": [
       "array([[0, 0, 0, 0, 0, 0, 0, 0, 0, 0, 0, 0, 0, 0, 0, 0, 0, 0, 0, 0, 0, 0,\n",
       "        0, 0, 0, 0, 0, 0, 0, 0, 0, 0, 0, 0, 0, 0, 0, 0, 0, 0, 0, 0, 0, 0,\n",
       "        0, 0, 0, 0, 0, 0, 0, 0, 0, 0, 0, 0, 0, 0, 0, 0, 0, 0, 0, 0, 0, 0,\n",
       "        0, 0, 0, 0, 0, 0, 0, 0, 0, 0, 0, 0, 0, 0, 0, 0, 0, 0, 0, 0, 0, 0,\n",
       "        0, 0, 0, 0, 0, 0, 0, 0, 0, 0, 0],\n",
       "       [0, 1, 0, 0, 0, 1, 1, 0, 0, 0, 1, 0, 1, 1, 0, 0, 0, 0, 0, 0, 1, 1,\n",
       "        1, 0, 0, 0, 0, 0, 0, 0, 0, 0, 0, 0, 1, 0, 1, 0, 1, 1, 1, 0, 0, 0,\n",
       "        1, 0, 0, 0, 1, 0, 1, 0, 0, 0, 0, 1, 0, 0, 1, 0, 1, 1, 0, 1, 1, 1,\n",
       "        1, 0, 1, 1, 1, 0, 0, 0, 0, 0, 0, 0, 1, 0, 1, 0, 0, 1, 1, 1, 0, 1,\n",
       "        0, 1, 0, 0, 1, 1, 0, 0, 0, 1, 0],\n",
       "       [0, 0, 0, 0, 0, 0, 0, 0, 0, 0, 0, 0, 0, 0, 0, 0, 0, 0, 0, 0, 0, 0,\n",
       "        1, 0, 0, 0, 0, 0, 0, 0, 0, 0, 0, 0, 0, 0, 1, 0, 1, 1, 0, 0, 0, 0,\n",
       "        0, 0, 0, 0, 0, 0, 0, 0, 0, 0, 0, 0, 0, 0, 1, 0, 0, 0, 0, 0, 0, 1,\n",
       "        0, 0, 1, 0, 1, 0, 0, 0, 0, 0, 0, 0, 1, 0, 0, 0, 0, 0, 0, 0, 0, 1,\n",
       "        0, 0, 0, 0, 1, 0, 0, 0, 0, 0, 0],\n",
       "       [0, 0, 0, 0, 0, 0, 0, 0, 0, 0, 0, 0, 0, 0, 0, 0, 0, 0, 0, 0, 0, 0,\n",
       "        0, 0, 0, 0, 0, 0, 0, 0, 0, 0, 0, 0, 0, 0, 0, 0, 0, 0, 0, 0, 0, 0,\n",
       "        0, 0, 0, 0, 0, 0, 0, 0, 0, 0, 0, 0, 0, 0, 1, 0, 0, 0, 0, 0, 0, 1,\n",
       "        0, 0, 0, 0, 0, 0, 0, 0, 0, 0, 0, 0, 0, 0, 0, 0, 0, 0, 0, 0, 0, 1,\n",
       "        0, 0, 0, 0, 0, 0, 0, 0, 0, 1, 0],\n",
       "       [0, 1, 0, 0, 0, 0, 0, 0, 0, 0, 0, 0, 0, 0, 0, 0, 0, 0, 0, 0, 0, 0,\n",
       "        0, 0, 0, 0, 0, 0, 0, 0, 0, 0, 0, 0, 0, 0, 0, 0, 0, 0, 0, 0, 0, 0,\n",
       "        0, 0, 0, 0, 0, 0, 0, 0, 0, 0, 0, 0, 0, 0, 0, 0, 0, 0, 0, 0, 0, 0,\n",
       "        0, 0, 0, 0, 0, 0, 0, 0, 0, 0, 0, 0, 0, 0, 0, 0, 0, 0, 0, 0, 0, 0,\n",
       "        0, 0, 0, 0, 0, 0, 0, 0, 0, 0, 0],\n",
       "       [0, 0, 0, 0, 0, 0, 0, 0, 0, 0, 0, 0, 0, 0, 0, 0, 0, 0, 0, 0, 0, 0,\n",
       "        0, 0, 0, 0, 0, 0, 0, 0, 0, 0, 0, 0, 0, 0, 0, 0, 0, 0, 0, 0, 0, 0,\n",
       "        0, 0, 0, 0, 0, 0, 0, 0, 0, 0, 0, 0, 0, 0, 0, 0, 0, 0, 0, 0, 0, 0,\n",
       "        0, 0, 0, 0, 0, 0, 0, 0, 0, 0, 0, 0, 0, 0, 0, 0, 0, 0, 0, 0, 0, 0,\n",
       "        0, 0, 0, 0, 0, 0, 0, 0, 0, 0, 0],\n",
       "       [0, 0, 0, 0, 0, 0, 0, 0, 0, 0, 0, 0, 0, 0, 0, 0, 0, 0, 0, 0, 0, 0,\n",
       "        0, 0, 0, 0, 0, 0, 0, 0, 0, 0, 0, 0, 0, 0, 0, 0, 0, 0, 0, 0, 0, 0,\n",
       "        0, 0, 0, 0, 0, 0, 0, 0, 0, 0, 0, 0, 0, 0, 0, 0, 0, 0, 0, 0, 0, 0,\n",
       "        0, 0, 0, 0, 0, 0, 0, 0, 0, 0, 0, 0, 0, 0, 0, 0, 0, 0, 0, 0, 0, 0,\n",
       "        0, 0, 0, 0, 0, 0, 0, 0, 0, 0, 0],\n",
       "       [0, 0, 0, 0, 0, 0, 0, 0, 0, 0, 0, 0, 0, 0, 0, 0, 0, 0, 0, 0, 0, 0,\n",
       "        0, 0, 0, 0, 0, 0, 0, 0, 0, 0, 0, 0, 0, 0, 0, 0, 0, 0, 0, 0, 0, 0,\n",
       "        0, 0, 0, 0, 0, 0, 0, 0, 0, 0, 0, 0, 0, 0, 0, 0, 0, 0, 0, 0, 0, 0,\n",
       "        0, 0, 0, 0, 0, 0, 0, 0, 0, 0, 0, 0, 0, 0, 0, 0, 0, 0, 0, 0, 0, 0,\n",
       "        0, 0, 0, 0, 0, 0, 0, 0, 0, 0, 0],\n",
       "       [0, 0, 0, 0, 0, 0, 0, 0, 0, 0, 0, 0, 0, 0, 0, 0, 0, 0, 0, 0, 0, 0,\n",
       "        0, 0, 0, 0, 0, 0, 0, 0, 0, 0, 0, 0, 0, 0, 0, 0, 0, 0, 0, 0, 0, 0,\n",
       "        0, 0, 0, 0, 0, 0, 0, 0, 0, 0, 0, 0, 0, 0, 0, 0, 0, 0, 0, 0, 0, 0,\n",
       "        0, 0, 0, 0, 0, 0, 0, 0, 0, 0, 0, 0, 0, 0, 0, 0, 0, 0, 0, 0, 0, 0,\n",
       "        0, 0, 0, 0, 0, 0, 0, 0, 0, 1, 0],\n",
       "       [0, 0, 0, 0, 0, 0, 0, 0, 0, 0, 0, 0, 0, 0, 0, 0, 0, 0, 0, 0, 0, 0,\n",
       "        0, 0, 0, 0, 0, 0, 0, 0, 0, 0, 0, 0, 0, 0, 0, 0, 0, 0, 0, 0, 0, 0,\n",
       "        0, 0, 0, 0, 0, 0, 0, 0, 0, 0, 0, 0, 0, 0, 0, 0, 0, 0, 0, 0, 0, 0,\n",
       "        0, 0, 0, 0, 0, 0, 0, 0, 0, 0, 0, 0, 0, 0, 0, 0, 0, 0, 0, 0, 0, 0,\n",
       "        0, 0, 0, 0, 0, 0, 0, 0, 0, 0, 0]], dtype=int64)"
      ]
     },
     "execution_count": 246,
     "metadata": {},
     "output_type": "execute_result"
    }
   ],
   "source": [
    "a_0[:10, :]"
   ]
  },
  {
   "cell_type": "code",
   "execution_count": null,
   "id": "7c3c4766-620f-4e2b-99ff-df29f2fb9460",
   "metadata": {},
   "outputs": [
    {
     "ename": "ValueError",
     "evalue": "The truth value of an array with more than one element is ambiguous. Use a.any() or a.all()",
     "output_type": "error",
     "traceback": [
      "\u001b[1;31m---------------------------------------------------------------------------\u001b[0m",
      "\u001b[1;31mValueError\u001b[0m                                Traceback (most recent call last)",
      "Input \u001b[1;32mIn [217]\u001b[0m, in \u001b[0;36m<module>\u001b[1;34m\u001b[0m\n\u001b[0;32m     10\u001b[0m \u001b[38;5;28;01melse\u001b[39;00m:\n\u001b[0;32m     11\u001b[0m     curr_max \u001b[38;5;241m=\u001b[39m b[idx]\n\u001b[1;32m---> 12\u001b[0m     \u001b[38;5;28;01mif\u001b[39;00m \u001b[43mb_0\u001b[49m\u001b[43m[\u001b[49m\u001b[43midx\u001b[49m\u001b[43m]\u001b[49m\u001b[43m \u001b[49m\u001b[38;5;241;43m==\u001b[39;49m\u001b[43m \u001b[49m\u001b[38;5;241;43m0\u001b[39;49m:\n\u001b[0;32m     13\u001b[0m         b_0[idx] \u001b[38;5;241m=\u001b[39m \u001b[38;5;241m1\u001b[39m\n\u001b[0;32m     14\u001b[0m         tot \u001b[38;5;241m+\u001b[39m\u001b[38;5;241m=\u001b[39m\u001b[38;5;241m1\u001b[39m \n",
      "\u001b[1;31mValueError\u001b[0m: The truth value of an array with more than one element is ambiguous. Use a.any() or a.all()"
     ]
    }
   ],
   "source": [
    "tot = 0 \n",
    "\n",
    "# get trees seeable from left and right\n",
    "curr_max = b[0]\n",
    "for idx in range(1, len(b)-1):\n",
    "    if b[idx] <= curr_max:\n",
    "        max_position = idx - 1\n",
    "        break\n",
    "    else:\n",
    "        curr_max = b[idx]\n",
    "        if b_0[idx] == 0:\n",
    "            b_0[idx] = 1\n",
    "            tot +=1 \n",
    "            \n",
    "curr_max = b[-1]\n",
    "for idx in reversed(range(max_position, len(b)-1)):\n",
    "    print([idx, curr_max])\n",
    "    if b[idx] <= curr_max:\n",
    "        break\n",
    "    else:\n",
    "        curr_max = b[idx]\n",
    "        if b_0[idx] == 0:\n",
    "            b_0[idx] = 1\n",
    "            tot +=1 "
   ]
  },
  {
   "cell_type": "code",
   "execution_count": 231,
   "id": "2480b525-9d0f-4f25-a6ea-a857c3821305",
   "metadata": {},
   "outputs": [],
   "source": [
    "a_0 = 0 * a\n",
    "row = 79\n",
    "tot = 0\n",
    "\n",
    "# get trees seeable from left and right\n",
    "curr_max = a[row, 0]\n",
    "for col in range(1, len(a)-1):\n",
    "    if a[row, col] <= curr_max:\n",
    "        max_position = col - 1\n",
    "        break\n",
    "    else:\n",
    "        curr_max = a[row, col]\n",
    "        if a_0[row, col] == 0:\n",
    "            a_0[row, col] = 1\n",
    "            tot +=1 \n",
    "\n",
    "curr_max = a[row, -1]\n",
    "for col in reversed(range(max_position, len(a)-1)):\n",
    "    if a[row, col] <= curr_max:\n",
    "        break\n",
    "    else:\n",
    "        curr_max = a[row, col]\n",
    "        if a_0[row, col] == 0:\n",
    "            a_0[row, col] = 1\n",
    "            tot +=1 "
   ]
  },
  {
   "cell_type": "code",
   "execution_count": 230,
   "id": "63668416-6341-4d04-a0b5-de5e6731cd6c",
   "metadata": {},
   "outputs": [
    {
     "data": {
      "text/plain": [
       "array([2, 4, 1, 0, 1, 0, 1, 4, 0, 4, 2, 4, 4, 5, 2, 4, 5, 5, 2, 2, 6, 6,\n",
       "       5, 5, 2, 3, 6, 2, 5, 5, 7, 4, 6, 4, 5, 5, 5, 6, 3, 7, 5, 3, 5, 5,\n",
       "       4, 4, 7, 4, 6, 5, 6, 3, 3, 7, 4, 6, 7, 3, 7, 5, 3, 7, 4, 5, 3, 6,\n",
       "       4, 5, 4, 7, 6, 6, 6, 5, 6, 4, 4, 6, 5, 2, 5, 6, 6, 2, 1, 4, 1, 1,\n",
       "       4, 2, 5, 2, 1, 0, 3, 0, 3, 1, 0], dtype=int64)"
      ]
     },
     "execution_count": 230,
     "metadata": {},
     "output_type": "execute_result"
    }
   ],
   "source": [
    "a[79]"
   ]
  },
  {
   "cell_type": "code",
   "execution_count": 232,
   "id": "3b873ebd-9257-43d5-b942-9459b34c9bf9",
   "metadata": {},
   "outputs": [
    {
     "data": {
      "text/plain": [
       "3"
      ]
     },
     "execution_count": 232,
     "metadata": {},
     "output_type": "execute_result"
    }
   ],
   "source": [
    "tot"
   ]
  },
  {
   "cell_type": "code",
   "execution_count": 198,
   "id": "901883ce-6775-425f-8faa-71e7d2b79d2b",
   "metadata": {},
   "outputs": [
    {
     "data": {
      "text/plain": [
       "0"
      ]
     },
     "execution_count": 198,
     "metadata": {},
     "output_type": "execute_result"
    }
   ],
   "source": [
    "a[1, len(a)-3]"
   ]
  },
  {
   "cell_type": "code",
   "execution_count": 204,
   "id": "36995da9-328b-462e-8e07-e551bbc0a2f1",
   "metadata": {},
   "outputs": [
    {
     "data": {
      "text/plain": [
       "1"
      ]
     },
     "execution_count": 204,
     "metadata": {},
     "output_type": "execute_result"
    }
   ],
   "source": [
    "tot"
   ]
  },
  {
   "cell_type": "code",
   "execution_count": null,
   "id": "a0eda38c-4c1e-41cd-add7-9c15157458eb",
   "metadata": {},
   "outputs": [],
   "source": []
  }
 ],
 "metadata": {
  "kernelspec": {
   "display_name": "m_env",
   "language": "python",
   "name": "m_env"
  },
  "language_info": {
   "codemirror_mode": {
    "name": "ipython",
    "version": 3
   },
   "file_extension": ".py",
   "mimetype": "text/x-python",
   "name": "python",
   "nbconvert_exporter": "python",
   "pygments_lexer": "ipython3",
   "version": "3.9.7"
  }
 },
 "nbformat": 4,
 "nbformat_minor": 5
}
