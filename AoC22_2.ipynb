{
 "cells": [
  {
   "cell_type": "code",
   "execution_count": 1,
   "id": "6d48d243-6757-474d-b9be-d999064d45d7",
   "metadata": {},
   "outputs": [],
   "source": [
    "import pandas as pd"
   ]
  },
  {
   "cell_type": "code",
   "execution_count": 2,
   "id": "925c0f7a-854c-48ec-a96c-54ad92f64e7f",
   "metadata": {},
   "outputs": [],
   "source": [
    "file = r'C:\\Users\\asdf\\AoC22\\Inputs\\Input_2.txt'\n",
    "v = pd.read_csv(file, header=None, sep = \" \").values[:,0]\n",
    "h = pd.read_csv(file, header=None, sep = \" \").values[:,1]"
   ]
  },
  {
   "cell_type": "code",
   "execution_count": 3,
   "id": "92f54a2a-4057-40a8-a3ee-dcf6e5c5c066",
   "metadata": {},
   "outputs": [],
   "source": [
    "def get_points(a,b):\n",
    "    if (a == 'A') & (b == 'X'):\n",
    "        return 4\n",
    "    elif (a == 'A') & (b == 'Y'):\n",
    "        return 8\n",
    "    elif (a == 'A') & (b == 'Z'):\n",
    "        return 3\n",
    "    elif (a == 'B') & (b == 'X'):\n",
    "        return 1\n",
    "    elif (a == 'B') & (b == 'Y'):\n",
    "        return 5\n",
    "    elif (a == 'B') & (b == 'Z'):\n",
    "        return 9\n",
    "    elif (a == 'C') & (b == 'X'):\n",
    "        return 7\n",
    "    elif (a == 'C') & (b == 'Y'):\n",
    "        return 2\n",
    "    elif (a == 'C') & (b == 'Z'):\n",
    "        return 6\n",
    "    \n",
    "def get_points_2(a,b):\n",
    "    if (a == 'A') & (b == 'X'):\n",
    "        return 3\n",
    "    elif (a == 'A') & (b == 'Y'):\n",
    "        return 4\n",
    "    elif (a == 'A') & (b == 'Z'):\n",
    "        return 8\n",
    "    elif (a == 'B') & (b == 'X'):\n",
    "        return 1\n",
    "    elif (a == 'B') & (b == 'Y'):\n",
    "        return 5\n",
    "    elif (a == 'B') & (b == 'Z'):\n",
    "        return 9\n",
    "    elif (a == 'C') & (b == 'X'):\n",
    "        return 2\n",
    "    elif (a == 'C') & (b == 'Y'):\n",
    "        return 6\n",
    "    elif (a == 'C') & (b == 'Z'):\n",
    "        return 7"
   ]
  },
  {
   "cell_type": "code",
   "execution_count": 4,
   "id": "1755c504-8011-4be8-ae18-a8504fe84ae0",
   "metadata": {},
   "outputs": [
    {
     "data": {
      "text/plain": [
       "12645"
      ]
     },
     "execution_count": 4,
     "metadata": {},
     "output_type": "execute_result"
    }
   ],
   "source": [
    "total_points = 0\n",
    "for idx, _ in enumerate(v):\n",
    "   total_points += get_points(v[idx], h[idx])\n",
    "\n",
    "total_points"
   ]
  },
  {
   "cell_type": "code",
   "execution_count": 5,
   "id": "74595d0b-dde7-4fc1-bded-322971c02ed9",
   "metadata": {},
   "outputs": [
    {
     "data": {
      "text/plain": [
       "11756"
      ]
     },
     "execution_count": 5,
     "metadata": {},
     "output_type": "execute_result"
    }
   ],
   "source": [
    "total_points = 0\n",
    "for idx, _ in enumerate(v):\n",
    "   total_points += get_points_2(v[idx], h[idx])\n",
    "\n",
    "total_points"
   ]
  },
  {
   "cell_type": "code",
   "execution_count": null,
   "id": "1d601b93-70ed-4c39-8a10-96724a699049",
   "metadata": {},
   "outputs": [],
   "source": []
  }
 ],
 "metadata": {
  "kernelspec": {
   "display_name": "m_env",
   "language": "python",
   "name": "m_env"
  },
  "language_info": {
   "codemirror_mode": {
    "name": "ipython",
    "version": 3
   },
   "file_extension": ".py",
   "mimetype": "text/x-python",
   "name": "python",
   "nbconvert_exporter": "python",
   "pygments_lexer": "ipython3",
   "version": "3.9.7"
  }
 },
 "nbformat": 4,
 "nbformat_minor": 5
}
