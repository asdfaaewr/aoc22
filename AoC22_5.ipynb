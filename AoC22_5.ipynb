{
 "cells": [
  {
   "cell_type": "code",
   "execution_count": 1,
   "id": "b3c217a3-5d16-412d-899b-f40ae69cfec5",
   "metadata": {},
   "outputs": [],
   "source": [
    "import pandas as pd "
   ]
  },
  {
   "cell_type": "code",
   "execution_count": 237,
   "id": "ac6b2238-1d64-4728-a57f-31b8acb85002",
   "metadata": {},
   "outputs": [],
   "source": [
    "file = r'C:\\Users\\asdf\\AoC22\\Inputs\\Input_5.txt'\n",
    "v = pd.read_csv(file, sep =\",\", header=None).values"
   ]
  },
  {
   "cell_type": "code",
   "execution_count": 238,
   "id": "6a840648-b58a-4584-bd6e-1295264f8c23",
   "metadata": {},
   "outputs": [],
   "source": [
    "a = ['Z', 'V', 'T', 'B', 'J', 'G', 'R'][::-1]\n",
    "b = ['L', 'V', 'R', 'J'][::-1]\n",
    "c = ['S', 'Q', 'F']\n",
    "d = ['Z', 'H', 'N', 'L', 'F', 'V', 'Q', 'G']\n",
    "e = ['R', 'Q', 'T', 'J', 'C', 'S', 'M', 'W']\n",
    "f = ['S', 'W', 'T', 'C', 'H', 'F']\n",
    "g = ['D', 'Z', 'C', 'V', 'F', 'N', 'J']\n",
    "h = ['L', 'G', 'Z', 'D', 'W', 'R', 'F', 'Q']\n",
    "i = ['J', 'B', 'W', 'V', 'P']\n",
    "\n",
    "table = [a,b,c,d,e,f,g,h,i]"
   ]
  },
  {
   "cell_type": "code",
   "execution_count": 239,
   "id": "1ed814b0-7874-45c9-b1e4-2b298632e841",
   "metadata": {
    "tags": []
   },
   "outputs": [
    {
     "data": {
      "text/plain": [
       "['Z', 'S', 'Q', 'V', 'C', 'C', 'J', 'L', 'L']"
      ]
     },
     "execution_count": 239,
     "metadata": {},
     "output_type": "execute_result"
    }
   ],
   "source": [
    "for move in v:\n",
    "    for i in range(move[0]):\n",
    "        table[move[2]-1].append(table[move[1]-1][-1])\n",
    "        table[move[1]-1].pop()  \n",
    "        \n",
    "[t[-1] for t in table]"
   ]
  },
  {
   "cell_type": "code",
   "execution_count": 240,
   "id": "4e9c796f-d6c9-450a-92c6-b30706112383",
   "metadata": {},
   "outputs": [],
   "source": [
    "a = ['Z', 'V', 'T', 'B', 'J', 'G', 'R'][::-1]\n",
    "b = ['L', 'V', 'R', 'J'][::-1]\n",
    "c = ['S', 'Q', 'F']\n",
    "d = ['Z', 'H', 'N', 'L', 'F', 'V', 'Q', 'G']\n",
    "e = ['R', 'Q', 'T', 'J', 'C', 'S', 'M', 'W']\n",
    "f = ['S', 'W', 'T', 'C', 'H', 'F']\n",
    "g = ['D', 'Z', 'C', 'V', 'F', 'N', 'J']\n",
    "h = ['L', 'G', 'Z', 'D', 'W', 'R', 'F', 'Q']\n",
    "i = ['J', 'B', 'W', 'V', 'P']\n",
    "\n",
    "table = [a,b,c,d,e,f,g,h,i]"
   ]
  },
  {
   "cell_type": "code",
   "execution_count": 241,
   "id": "7488a5b8-42cb-4b81-900b-a15b53010f17",
   "metadata": {},
   "outputs": [
    {
     "data": {
      "text/plain": [
       "['Q', 'Z', 'F', 'J', 'R', 'W', 'H', 'G', 'S']"
      ]
     },
     "execution_count": 241,
     "metadata": {},
     "output_type": "execute_result"
    }
   ],
   "source": [
    "for move in v:\n",
    "    table[move[2]-1] = table[move[2]-1] + table[move[1]-1][-move[0]:]\n",
    "    table[move[1]-1][-move[0]:]=[]\n",
    "    \n",
    "[t[-1] for t in table]"
   ]
  },
  {
   "cell_type": "code",
   "execution_count": null,
   "id": "9b123582-f464-4785-96d2-3c5c591c7548",
   "metadata": {},
   "outputs": [
    {
     "data": {
      "text/plain": [
       "'B'"
      ]
     },
     "execution_count": 52,
     "metadata": {},
     "output_type": "execute_result"
    }
   ],
   "source": [
    "r"
   ]
  },
  {
   "cell_type": "code",
   "execution_count": null,
   "id": "d35fa46d-3896-49bb-a819-b072d5176431",
   "metadata": {},
   "outputs": [
    {
     "ename": "SyntaxError",
     "evalue": "unexpected EOF while parsing (3775455318.py, line 1)",
     "output_type": "error",
     "traceback": [
      "\u001b[1;36m  Input \u001b[1;32mIn [73]\u001b[1;36m\u001b[0m\n\u001b[1;33m    table[move[2]].append(table[move[i-1]][-1]\u001b[0m\n\u001b[1;37m                                              ^\u001b[0m\n\u001b[1;31mSyntaxError\u001b[0m\u001b[1;31m:\u001b[0m unexpected EOF while parsing\n"
     ]
    }
   ],
   "source": [
    "table[move[2]].append(table[move[i-1]][-1]"
   ]
  },
  {
   "cell_type": "code",
   "execution_count": null,
   "id": "961c7110-ba26-4193-8bd5-1852885296e2",
   "metadata": {},
   "outputs": [
    {
     "data": {
      "text/plain": [
       "['Z', 'S', 'Q', 'V', 'C', 'C', 'J', 'L', 'L']"
      ]
     },
     "execution_count": 134,
     "metadata": {},
     "output_type": "execute_result"
    }
   ],
   "source": [
    "[t[-1] for t in table]"
   ]
  },
  {
   "cell_type": "code",
   "execution_count": null,
   "id": "71f7c960-aa70-4cc6-8331-d6427b6bc418",
   "metadata": {},
   "outputs": [
    {
     "ename": "IndexError",
     "evalue": "list index out of range",
     "output_type": "error",
     "traceback": [
      "\u001b[1;31m---------------------------------------------------------------------------\u001b[0m",
      "\u001b[1;31mIndexError\u001b[0m                                Traceback (most recent call last)",
      "Input \u001b[1;32mIn [135]\u001b[0m, in \u001b[0;36m<module>\u001b[1;34m\u001b[0m\n\u001b[0;32m      1\u001b[0m \u001b[38;5;28;01mfor\u001b[39;00m move \u001b[38;5;129;01min\u001b[39;00m v:\n\u001b[0;32m      2\u001b[0m     \u001b[38;5;28;01mfor\u001b[39;00m i \u001b[38;5;129;01min\u001b[39;00m \u001b[38;5;28mrange\u001b[39m(move[\u001b[38;5;241m0\u001b[39m]):\n\u001b[1;32m----> 3\u001b[0m         table[move[\u001b[38;5;241m2\u001b[39m]\u001b[38;5;241m-\u001b[39m\u001b[38;5;241m1\u001b[39m]\u001b[38;5;241m.\u001b[39mappend(\u001b[43mtable\u001b[49m\u001b[43m[\u001b[49m\u001b[43mmove\u001b[49m\u001b[43m[\u001b[49m\u001b[38;5;241;43m1\u001b[39;49m\u001b[43m]\u001b[49m\u001b[38;5;241;43m-\u001b[39;49m\u001b[38;5;241;43m1\u001b[39;49m\u001b[43m]\u001b[49m\u001b[43m[\u001b[49m\u001b[38;5;241;43m-\u001b[39;49m\u001b[38;5;241;43m1\u001b[39;49m\u001b[43m]\u001b[49m)\n\u001b[0;32m      4\u001b[0m         table[move[\u001b[38;5;241m1\u001b[39m]\u001b[38;5;241m-\u001b[39m\u001b[38;5;241m1\u001b[39m]\u001b[38;5;241m.\u001b[39mpop()\n",
      "\u001b[1;31mIndexError\u001b[0m: list index out of range"
     ]
    }
   ],
   "source": [
    "for move in v:\n",
    "        table[move[2]-1] = table[move[2]-1] + table[move[1]-1][-move[0]:-1]\n",
    "        table[move[1]-1][]=[-move[0]:-1]"
   ]
  },
  {
   "cell_type": "code",
   "execution_count": null,
   "id": "3543eece-c238-4fca-91e2-cd8a2a6630d8",
   "metadata": {},
   "outputs": [],
   "source": [
    "for move in v:\n",
    "    table[move[2]-1] = table[move[2]-1] + table[move[1]-1][-move[0]:]\n",
    "    table[move[1]-1][-move[0]:]=[]"
   ]
  },
  {
   "cell_type": "code",
   "execution_count": null,
   "id": "3f98eaf5-a5a7-4278-9d1e-1f8692cf5582",
   "metadata": {},
   "outputs": [
    {
     "data": {
      "text/plain": [
       "[['W',\n",
       "  'J',\n",
       "  'D',\n",
       "  'S',\n",
       "  'F',\n",
       "  'N',\n",
       "  'Z',\n",
       "  'Q',\n",
       "  'V',\n",
       "  'G',\n",
       "  'T',\n",
       "  'P',\n",
       "  'T',\n",
       "  'C',\n",
       "  'C',\n",
       "  'H',\n",
       "  'W',\n",
       "  'Z',\n",
       "  'W',\n",
       "  'V',\n",
       "  'Q'],\n",
       " ['S', 'V', 'G', 'Z'],\n",
       " ['J', 'L', 'F', 'L', 'R', 'R', 'R', 'Q', 'V', 'Q', 'M', 'T', 'C', 'L', 'F'],\n",
       " ['J'],\n",
       " ['R'],\n",
       " ['W'],\n",
       " ['B', 'V', 'H'],\n",
       " ['J', 'F', 'B', 'G'],\n",
       " ['J', 'N', 'Z', 'D', 'F', 'S']]"
      ]
     },
     "execution_count": 223,
     "metadata": {},
     "output_type": "execute_result"
    }
   ],
   "source": [
    "table"
   ]
  },
  {
   "cell_type": "code",
   "execution_count": 176,
   "id": "5d2f1606-0b78-465e-a523-c3c895e1a5f1",
   "metadata": {},
   "outputs": [],
   "source": [
    "l_1 = t; l_2 =  t[-3:-1]"
   ]
  },
  {
   "cell_type": "code",
   "execution_count": 169,
   "id": "071b4633-8f9f-4fb4-a755-564b61c756fa",
   "metadata": {},
   "outputs": [],
   "source": [
    "l_1.append(l_2) "
   ]
  },
  {
   "cell_type": "code",
   "execution_count": 217,
   "id": "85336fce-d75f-4ae8-9120-8785e3e91e76",
   "metadata": {},
   "outputs": [
    {
     "data": {
      "text/plain": [
       "[['W',\n",
       "  'J',\n",
       "  'D',\n",
       "  'S',\n",
       "  'F',\n",
       "  'N',\n",
       "  'Z',\n",
       "  'Q',\n",
       "  'V',\n",
       "  'G',\n",
       "  'T',\n",
       "  'P',\n",
       "  'T',\n",
       "  'C',\n",
       "  'C',\n",
       "  'H',\n",
       "  'W',\n",
       "  'Z',\n",
       "  'W',\n",
       "  'V',\n",
       "  'Q'],\n",
       " ['S', 'V', 'G', 'Z'],\n",
       " ['J', 'L', 'F', 'L', 'R', 'R', 'R', 'Q', 'V', 'Q', 'M', 'T', 'C', 'L', 'F'],\n",
       " ['J'],\n",
       " ['R'],\n",
       " ['W'],\n",
       " ['B', 'V', 'H'],\n",
       " ['J', 'F', 'B', 'G'],\n",
       " ['J', 'N', 'Z', 'D', 'F', 'S']]"
      ]
     },
     "execution_count": 217,
     "metadata": {},
     "output_type": "execute_result"
    }
   ],
   "source": [
    "table"
   ]
  },
  {
   "cell_type": "code",
   "execution_count": 202,
   "id": "70aa59a5-463d-422b-bd91-d78618c9f2b1",
   "metadata": {},
   "outputs": [
    {
     "data": {
      "text/plain": [
       "[['R', 'G', 'J', 'B', 'T', 'V', 'Z'],\n",
       " ['J', 'R', 'V', 'L'],\n",
       " ['S', 'Q', 'F'],\n",
       " ['Z', 'H', 'N', 'L', 'F', 'V', 'Q', 'G'],\n",
       " ['R', 'Q', 'T', 'J', 'C', 'S', 'M', 'W'],\n",
       " ['S', 'W', 'T', 'C', 'H', 'F'],\n",
       " ['D', 'Z', 'C', 'V', 'F', 'N', 'J'],\n",
       " ['L', 'G', 'Z', 'D', 'W', 'R', 'F', 'Q'],\n",
       " ['J', 'B', 'W', 'V', 'P']]"
      ]
     },
     "execution_count": 202,
     "metadata": {},
     "output_type": "execute_result"
    }
   ],
   "source": [
    "table"
   ]
  },
  {
   "cell_type": "code",
   "execution_count": 185,
   "id": "400ff8f3-e44b-4abb-9a17-123970730d86",
   "metadata": {},
   "outputs": [
    {
     "data": {
      "text/plain": [
       "['a', 'b', 'c', ['a', 'b'], ['a', 'b']]"
      ]
     },
     "execution_count": 185,
     "metadata": {},
     "output_type": "execute_result"
    }
   ],
   "source": [
    "l_1"
   ]
  },
  {
   "cell_type": "code",
   "execution_count": 177,
   "id": "d8b500bb-9020-4add-bd53-0d9f0776a1d5",
   "metadata": {},
   "outputs": [],
   "source": [
    "l_1.append(l_2)"
   ]
  },
  {
   "cell_type": "code",
   "execution_count": 178,
   "id": "29e6ea75-fb59-4f04-9ff5-50062629321d",
   "metadata": {},
   "outputs": [
    {
     "data": {
      "text/plain": [
       "['a', 'b', 'c', ['a', 'b']]"
      ]
     },
     "execution_count": 178,
     "metadata": {},
     "output_type": "execute_result"
    }
   ],
   "source": [
    "l_1"
   ]
  },
  {
   "cell_type": "code",
   "execution_count": 179,
   "id": "e2b6b4f9-6fca-4385-8c2b-23ae460bf7d8",
   "metadata": {},
   "outputs": [
    {
     "data": {
      "text/plain": [
       "['a', 'b', 'c', 'a', 'b']"
      ]
     },
     "execution_count": 179,
     "metadata": {},
     "output_type": "execute_result"
    }
   ],
   "source": [
    "[x for sub in l_1 for x in sub]"
   ]
  },
  {
   "cell_type": "code",
   "execution_count": 186,
   "id": "8bb2450f-a813-4462-99ab-801159b7fd74",
   "metadata": {},
   "outputs": [
    {
     "data": {
      "text/plain": [
       "['a', 'b', 'c']"
      ]
     },
     "execution_count": 186,
     "metadata": {},
     "output_type": "execute_result"
    }
   ],
   "source": [
    "t"
   ]
  },
  {
   "cell_type": "code",
   "execution_count": 188,
   "id": "49fc9a17-362c-42ba-b9a2-94415950c2a6",
   "metadata": {},
   "outputs": [
    {
     "data": {
      "text/plain": [
       "['a', 'b', 'c', 'a', 'b']"
      ]
     },
     "execution_count": 188,
     "metadata": {},
     "output_type": "execute_result"
    }
   ],
   "source": [
    "t+t[-3:-1]"
   ]
  },
  {
   "cell_type": "code",
   "execution_count": 189,
   "id": "e68907ce-0b4c-47d2-93eb-ad5492b8c7db",
   "metadata": {},
   "outputs": [
    {
     "data": {
      "text/plain": [
       "['a', 'b', 'c']"
      ]
     },
     "execution_count": 189,
     "metadata": {},
     "output_type": "execute_result"
    }
   ],
   "source": [
    "t"
   ]
  },
  {
   "cell_type": "code",
   "execution_count": 190,
   "id": "4896bbee-6259-4044-a6ec-1919a0548b09",
   "metadata": {},
   "outputs": [],
   "source": [
    "a = t+t"
   ]
  },
  {
   "cell_type": "code",
   "execution_count": 191,
   "id": "fe83c82f-8b70-4981-80e2-60195e528967",
   "metadata": {},
   "outputs": [
    {
     "data": {
      "text/plain": [
       "['a', 'b', 'c', 'a', 'b', 'c']"
      ]
     },
     "execution_count": 191,
     "metadata": {},
     "output_type": "execute_result"
    }
   ],
   "source": [
    "a"
   ]
  },
  {
   "cell_type": "code",
   "execution_count": 192,
   "id": "dc75526a-1c18-43bc-a859-56c1a4ac8156",
   "metadata": {},
   "outputs": [
    {
     "data": {
      "text/plain": [
       "['c', 'b', 'a', 'c', 'b', 'a']"
      ]
     },
     "execution_count": 192,
     "metadata": {},
     "output_type": "execute_result"
    }
   ],
   "source": [
    "a[::-1]"
   ]
  },
  {
   "cell_type": "code",
   "execution_count": 193,
   "id": "a54b9f33-c1f7-495b-85af-503a9753e581",
   "metadata": {},
   "outputs": [],
   "source": [
    "a[-3:-1]=[]"
   ]
  },
  {
   "cell_type": "code",
   "execution_count": 194,
   "id": "9db2ae24-238e-481b-a112-53a13fc621a5",
   "metadata": {},
   "outputs": [
    {
     "data": {
      "text/plain": [
       "['a', 'b', 'c', 'c']"
      ]
     },
     "execution_count": 194,
     "metadata": {},
     "output_type": "execute_result"
    }
   ],
   "source": [
    "a"
   ]
  },
  {
   "cell_type": "code",
   "execution_count": null,
   "id": "6507b5f9-4cf3-448d-9ddc-51c0f4ba53ac",
   "metadata": {},
   "outputs": [],
   "source": []
  }
 ],
 "metadata": {
  "kernelspec": {
   "display_name": "m_env",
   "language": "python",
   "name": "m_env"
  },
  "language_info": {
   "codemirror_mode": {
    "name": "ipython",
    "version": 3
   },
   "file_extension": ".py",
   "mimetype": "text/x-python",
   "name": "python",
   "nbconvert_exporter": "python",
   "pygments_lexer": "ipython3",
   "version": "3.9.7"
  }
 },
 "nbformat": 4,
 "nbformat_minor": 5
}
